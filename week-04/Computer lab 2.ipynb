{
 "cells": [
  {
   "cell_type": "code",
   "execution_count": 1,
   "metadata": {},
   "outputs": [
    {
     "name": "stdout",
     "output_type": "stream",
     "text": [
      "-497 -462\n",
      "[   0 -469 -474 ... -472 -513 -486]\n",
      "[   0 -511 -532 ... -506 -491 -483]\n",
      "The mean is = \n",
      "500169.7112887113\n"
     ]
    },
    {
     "data": {
      "image/png": "[encoded data removed]",
      "text/plain": [
       "<Figure size 432x288 with 1 Axes>"
      ]
     },
     "metadata": {
      "needs_background": "light"
     },
     "output_type": "display_data"
    }
   ],
   "source": [
    "#Computer lab 2\"\n",
    "\n",
    "import numpy as np\n",
    "import matplotlib.pyplot as plt\n",
    "from numpy.random import default_rng\n",
    "from numpy import random\n",
    "\n",
    "\n",
    "rng = default_rng()\n",
    "rand = rng.random\n",
    "\n",
    "numSteps = 1000 \n",
    "\n",
    "x = random.randint(-1,1, size=(numSteps))\n",
    "y = random.randint(-1,1, size=(numSteps))\n",
    "\n",
    "stepX = sum(x)\n",
    "stepY = sum(y)\n",
    "print(stepX,stepY)\n",
    "\n",
    "plt.plot(stepX,stepY, 'ko')\n",
    "\n",
    "xArray = np.array([0])\n",
    "yArray = np.array([0])\n",
    "for i in range(numSteps):\n",
    "    x2 = random.randint(-1,1, size=(numSteps))\n",
    "    y2 = random.randint(-1,1, size=(numSteps))\n",
    "\n",
    "    sumX = sum(x2)\n",
    "    sumY = sum(y2)\n",
    "    \n",
    "    xArray = np.append(xArray,[sumX])\n",
    "    yArray = np.append(yArray,[sumY])\n",
    "\n",
    "print(xArray)\n",
    "print(yArray)\n",
    "\n",
    "plt.plot (xArray, yArray, 'k.')\n",
    "\n",
    "displace = np.sqrt((xArray**2)+(yArray**2))\n",
    "displaceSquared = displace**2\n",
    "\n",
    "plt.hist(displace, numSteps)\n",
    "\n",
    "plt.hist(displaceSquared, numSteps)\n",
    "\n",
    "plt.hist(displaceSquared, numSteps)\n",
    "#plt.yscale('log',base=10)\n",
    "\n",
    "plt.hist(displaceSquared, numSteps)\n",
    "#plt.yscale('log',base=10) \n",
    "#plt.xscale('log',base=10) \n",
    "\n",
    "mean = np.mean(displaceSquared)\n",
    "print (\"The mean is = \")\n",
    "print (mean)"
   ]
  },
  {
   "cell_type": "code",
   "execution_count": null,
   "metadata": {},
   "outputs": [],
   "source": []
  }
 ],
 "metadata": {
  "kernelspec": {
   "display_name": "Python 3",
   "language": "python",
   "name": "python3"
  },
  "language_info": {
   "codemirror_mode": {
    "name": "ipython",
    "version": 3
   },
   "file_extension": ".py",
   "mimetype": "text/x-python",
   "name": "python",
   "nbconvert_exporter": "python",
   "pygments_lexer": "ipython3",
   "version": "3.8.3"
  }
 },
 "nbformat": 4,
 "nbformat_minor": 4
}
