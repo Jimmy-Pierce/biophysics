{
 "cells": [
  {
   "cell_type": "markdown",
   "metadata": {},
   "source": [
    "# 10.8 PROBABILITY OF ZERO COPIES\n",
    "\n",
    "Use this notebook to store your work for this problem."
   ]
  },
  {
   "cell_type": "code",
   "execution_count": 2,
   "metadata": {},
   "outputs": [
    {
     "data": {
      "text/plain": [
       "[<matplotlib.lines.Line2D at 0x2f508df9fd0>]"
      ]
     },
     "execution_count": 2,
     "metadata": {},
     "output_type": "execute_result"
    },
    {
     "data": {
      "image/png": "[encoded data removed]",
      "text/plain": [
       "<Figure size 432x288 with 1 Axes>"
      ]
     },
     "metadata": {
      "needs_background": "light"
     },
     "output_type": "display_data"
    }
   ],
   "source": [
    "import matplotlib.pyplot as plt\n",
    "import numpy as np\n",
    "import scipy.special as ss\n",
    "from scipy.special import binom\n",
    "from numpy import random\n",
    "from scipy.stats import norm\n",
    "import math\n",
    "from scipy.stats import stats\n",
    "from scipy.special import beta\n",
    "from scipy.signal import convolve\n",
    "from mpl_toolkits import mplot3d\n",
    "from numpy.random import default_rng\n",
    "\n",
    "random = default_rng().random\n",
    "\n",
    "#Well, the last problem didnt end well and this simply builds on it.\n",
    "\n",
    "trials = 150\n",
    "minutes = 300\n",
    "birth = 1\n",
    "clearance = 0.014\n",
    "\n",
    "for i in range (300):\n",
    "    randomOne = random(minutes)\n",
    "    eq        = np.log(randomOne)\n",
    "    time      = eq\n",
    "    timeSum   = time.cumsum()\n",
    "    stepRight = (random(minutes) < .5) -1\n",
    "    stepLocation = stepRight.cumsum()\n",
    "    \n",
    "plt.plot(timeSum,stepLocation,'.')\n",
    "\n",
    "#Not what I was expecting, not sure whats wrong.\n",
    "    "
   ]
  },
  {
   "cell_type": "markdown",
   "metadata": {},
   "source": [
    "***REPLACE WITH YOUR COMMENTS.***"
   ]
  }
 ],
 "metadata": {
  "kernelspec": {
   "display_name": "Python 3",
   "language": "python",
   "name": "python3"
  },
  "language_info": {
   "codemirror_mode": {
    "name": "ipython",
    "version": 3
   },
   "file_extension": ".py",
   "mimetype": "text/x-python",
   "name": "python",
   "nbconvert_exporter": "python",
   "pygments_lexer": "ipython3",
   "version": "3.8.3"
  }
 },
 "nbformat": 4,
 "nbformat_minor": 5
}
