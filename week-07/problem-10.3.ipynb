{
 "cells": [
  {
   "cell_type": "code",
   "execution_count": null,
   "metadata": {},
   "outputs": [],
   "source": []
  },
  {
   "cell_type": "markdown",
   "metadata": {},
   "source": [
    "# 10.3 RANDOM WALK WITH RANDOM WAITING TIMES\n",
    "\n",
    "Use this notebook to store your work for this problem."
   ]
  },
  {
   "cell_type": "markdown",
   "metadata": {},
   "source": [
    "## (a)"
   ]
  },
  {
   "cell_type": "code",
   "execution_count": 27,
   "metadata": {},
   "outputs": [
    {
     "data": {
      "image/png": "[encoded data removed]",
      "text/plain": [
       "<Figure size 432x288 with 1 Axes>"
      ]
     },
     "metadata": {
      "needs_background": "light"
     },
     "output_type": "display_data"
    }
   ],
   "source": [
    "import matplotlib.pyplot as plt\n",
    "import numpy as np\n",
    "import scipy.special as ss\n",
    "from scipy.special import binom\n",
    "from numpy import random\n",
    "from scipy.stats import norm\n",
    "import math\n",
    "from scipy.stats import stats\n",
    "from scipy.special import beta\n",
    "from scipy.signal import convolve\n",
    "from mpl_toolkits import mplot3d\n",
    "from numpy.random import default_rng\n",
    "\n",
    "random = default_rng().random\n",
    "\n",
    "beta = 1\n",
    "n    = 400\n",
    "\n",
    "randomOne = random(n)\n",
    "randomTwo = random(n)\n",
    "\n",
    "yOne = np.log(randomOne)\n",
    "yTwo = np.log(randomTwo)\n",
    "\n",
    "timeOne    = yOne/beta\n",
    "timeSumOne = timeOne.cumsum()\n",
    "timeTwo    = yTwo/beta\n",
    "timeSumTwo = timeTwo.cumsum()\n",
    "\n",
    "stepOne = (random(n) < .5) - 1\n",
    "stepOneLocation = stepOne.cumsum()\n",
    "stepTwo = (random(n) < .5) - 1\n",
    "stepTwoLocation = stepTwo.cumsum()\n",
    "\n",
    "plt.plot (timeOne, stepOneLocation)\n",
    "plt.plot (timeTwo, stepTwoLocation)\n",
    "\n",
    "finalPositionOne = stepOneLocation[-1]\n",
    "finalPositionTwo = stepTwoLocation[-1]\n",
    "\n",
    "\n",
    "\n",
    "\n",
    "\n"
   ]
  },
  {
   "cell_type": "code",
   "execution_count": null,
   "metadata": {},
   "outputs": [],
   "source": []
  },
  {
   "cell_type": "markdown",
   "metadata": {},
   "source": [
    "## (b)"
   ]
  },
  {
   "cell_type": "code",
   "execution_count": 29,
   "metadata": {},
   "outputs": [
    {
     "name": "stdout",
     "output_type": "stream",
     "text": [
      "The first mean is      =  20.0\n",
      "The first variance is  =  0.0\n",
      "The second mean is     =  -2.0\n",
      "The second variance is =  0.0\n"
     ]
    }
   ],
   "source": [
    "\n",
    "for i in range(50):\n",
    "    beta = 1\n",
    "    n    = 400\n",
    "\n",
    "    randomOne = random(n)\n",
    "    randomTwo = random(n)\n",
    "\n",
    "    yOne = np.log(randomOne)\n",
    "    yTwo = np.log(randomTwo)\n",
    "\n",
    "    timeOne    = yOne/beta\n",
    "    timeSumOne = timeOne.cumsum()\n",
    "    timeTwo    = yTwo/beta\n",
    "    timeSumTwo = timeTwo.cumsum()\n",
    "\n",
    "    stepOne = 2*(random(n) < .5) - 1\n",
    "    stepOneLocation = stepOne.cumsum()\n",
    "    stepTwo = 2*(random(n) < .5) - 1\n",
    "    stepTwoLocation = stepTwo.cumsum()\n",
    "\n",
    "    finalPositionOne = stepOneLocation[-1]\n",
    "    finalPositionTwo = stepTwoLocation[-1]\n",
    "    \n",
    "varianceOne = np.var(finalPositionOne)\n",
    "meanOne     = np.mean(finalPositionOne)\n",
    "varianceTwo = np.var(finalPositionTwo)\n",
    "meanTwo     = np.mean(finalPositionTwo)\n",
    "    \n",
    "print ('The first mean is      = ',meanOne)\n",
    "print ('The first variance is  = ', varianceOne)\n",
    "print ('The second mean is     = ',meanTwo)\n",
    "print ('The second variance is = ', varianceTwo)\n",
    "\n"
   ]
  },
  {
   "cell_type": "markdown",
   "metadata": {},
   "source": [
    "## (c)"
   ]
  },
  {
   "cell_type": "code",
   "execution_count": null,
   "metadata": {},
   "outputs": [],
   "source": []
  },
  {
   "cell_type": "markdown",
   "metadata": {},
   "source": [
    "## (d)"
   ]
  },
  {
   "cell_type": "code",
   "execution_count": null,
   "metadata": {},
   "outputs": [],
   "source": []
  },
  {
   "cell_type": "markdown",
   "metadata": {},
   "source": [
    "## (e)"
   ]
  },
  {
   "cell_type": "code",
   "execution_count": null,
   "metadata": {},
   "outputs": [],
   "source": []
  }
 ],
 "metadata": {
  "kernelspec": {
   "display_name": "Python 3",
   "language": "python",
   "name": "python3"
  },
  "language_info": {
   "codemirror_mode": {
    "name": "ipython",
    "version": 3
   },
   "file_extension": ".py",
   "mimetype": "text/x-python",
   "name": "python",
   "nbconvert_exporter": "python",
   "pygments_lexer": "ipython3",
   "version": "3.8.3"
  }
 },
 "nbformat": 4,
 "nbformat_minor": 5
}
