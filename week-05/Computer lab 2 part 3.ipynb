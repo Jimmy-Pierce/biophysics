{
 "cells": [
  {
   "cell_type": "markdown",
   "metadata": {},
   "source": [
    "# Computer Lab 2 — continued ...\n",
    "\n",
    "Work through Part 3 of the \"Second Computer Lab\" (Chapter 7) in _A Student's Guide to Python._  This exercise focuses on the Poisson distribution and waiting times.\n",
    "\n",
    "You can use this notebook to store your code, plots, and notes, or you can write a ___script___ (see Section 3.3) that will carry out the analysis and produce the plots, and simply write your comments and observations in this notebook.  If you write a script, it should save your plot with the data and your best fit to a PDF, JPG, or PNG in this folder when it runs."
   ]
  },
  {
   "cell_type": "code",
   "execution_count": 4,
   "metadata": {},
   "outputs": [
    {
     "data": {
      "text/plain": [
       "Text(0.5, 1.0, 'Distribution')"
      ]
     },
     "execution_count": 4,
     "metadata": {},
     "output_type": "execute_result"
    },
    {
     "data": {
      "image/png": "[encoded data removed]",
      "text/plain": [
       "<Figure size 432x288 with 1 Axes>"
      ]
     },
     "metadata": {
      "needs_background": "light"
     },
     "output_type": "display_data"
    }
   ],
   "source": [
    "import numpy as np\n",
    "import matplotlib.pyplot as plt\n",
    "from numpy.random import default_rng\n",
    "from scipy.special import factorial\n",
    "import math\n",
    "\n",
    "l = np.arange(100)\n",
    "formula = np.exp(-8)*(8*np.exp(l)/factorial(l))\n",
    "\n",
    "\n",
    "plt.plot(l,formula)\n",
    "plt.ylabel('Probability')\n",
    "plt.xlabel('Head flips')\n",
    "plt.title('Distribution')\n",
    "\n"
   ]
  },
  {
   "cell_type": "code",
   "execution_count": 20,
   "metadata": {},
   "outputs": [
    {
     "name": "stdout",
     "output_type": "stream",
     "text": [
      "[0.66557281]\n",
      "count heads:\n",
      "1\n"
     ]
    },
    {
     "data": {
      "text/plain": [
       "(array([[0., 0., 0., ..., 0., 0., 0.],\n",
       "        [0., 0., 0., ..., 0., 0., 0.],\n",
       "        [0., 0., 0., ..., 0., 0., 0.],\n",
       "        ...,\n",
       "        [0., 1., 0., ..., 0., 0., 0.],\n",
       "        [1., 0., 0., ..., 0., 0., 0.],\n",
       "        [0., 0., 0., ..., 0., 0., 0.]]),\n",
       " array([0.08240612, 0.17413208, 0.26585804, 0.357584  , 0.44930996,\n",
       "        0.54103592, 0.63276188, 0.72448784, 0.81621379, 0.90793975,\n",
       "        0.99966571]),\n",
       " <a list of 924 Lists of Patches objects>)"
      ]
     },
     "execution_count": 20,
     "metadata": {},
     "output_type": "execute_result"
    },
    {
     "data": {
      "image/png": "[encoded data removed]",
      "text/plain": [
       "<Figure size 432x288 with 1 Axes>"
      ]
     },
     "metadata": {
      "needs_background": "light"
     },
     "output_type": "display_data"
    }
   ],
   "source": [
    "rng = default_rng()\n",
    "random = rng.random\n",
    "\n",
    "nFlips = 100\n",
    "nTrials = 1000\n",
    "\n",
    "arrayHeads = []\n",
    "arrayTails = []\n",
    "\n",
    "for i in range(nTrials):\n",
    "    flip = random (1)\n",
    "    if flip <= 0.08 :\n",
    "            countHeads =+ 1\n",
    "            arrayHeads.append(flip)\n",
    "    else:\n",
    "            countTails =+ 1\n",
    "            arrayTails.append(flip)\n",
    "print (flip)\n",
    "print ('count heads:')\n",
    "print (countHeads)\n",
    "plt.hist(arrayHeads, bins = 10)\n",
    "plt.hist(arrayTails, bins = 10)\n",
    "    "
   ]
  },
  {
   "cell_type": "code",
   "execution_count": null,
   "metadata": {},
   "outputs": [],
   "source": []
  },
  {
   "cell_type": "code",
   "execution_count": null,
   "metadata": {},
   "outputs": [],
   "source": []
  }
 ],
 "metadata": {
  "kernelspec": {
   "display_name": "Python 3",
   "language": "python",
   "name": "python3"
  },
  "language_info": {
   "codemirror_mode": {
    "name": "ipython",
    "version": 3
   },
   "file_extension": ".py",
   "mimetype": "text/x-python",
   "name": "python",
   "nbconvert_exporter": "python",
   "pygments_lexer": "ipython3",
   "version": "3.8.3"
  }
 },
 "nbformat": 4,
 "nbformat_minor": 5
}
