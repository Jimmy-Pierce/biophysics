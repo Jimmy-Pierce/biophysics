{
 "cells": [
  {
   "cell_type": "markdown",
   "metadata": {},
   "source": [
    "# Problem 1.5\n",
    "\n",
    "This problem asks you to do several useful computational tasks:\n",
    "\n",
    "- import a data set\n",
    "- plot the data points\n",
    "- plot a function through the data points\n",
    "- adjust the parameters of a function to get a better fit\n",
    "\n",
    "Since this is only Week 1, you get more than a blank page to start with.\n",
    "\n",
    "We start the same way as always, though."
   ]
  },
  {
   "cell_type": "code",
   "execution_count": 1,
   "metadata": {},
   "outputs": [],
   "source": [
    "import numpy as np\n",
    "import matplotlib.pyplot as plt\n",
    "from numpy import loadtxt\n"
   ]
  },
  {
   "cell_type": "markdown",
   "metadata": {},
   "source": [
    "## 1.5(a)\n",
    "\n",
    "We need to import the data set and plot it.  You can find the data set in the `pmls-data` repository, in `02population`.  Dr. Kinder has copied the relevant files into _this_ folder for this week, so you can focus on working with data rather than finding it.  Later, we'll learn how to find a folder anywhere on your computer.\n",
    "\n",
    "The data file is called `population.csv`.  Open the file `README.txt` to see what is in the data set.\n",
    "\n",
    "Use either `np.loadtxt` to load the data into a numpy array called `data`.  Then, split this array in two for plotting.  Use either _array slicing_ or _unpacking_."
   ]
  },
  {
   "cell_type": "code",
   "execution_count": 15,
   "metadata": {},
   "outputs": [
    {
     "data": {
      "text/plain": [
       "array([1.000e+00, 5.000e+00, 2.700e+01, 5.000e+01, 2.000e+02, 3.000e+02,\n",
       "       4.000e+02, 5.000e+02, 6.000e+02, 7.500e+02, 9.000e+02, 1.000e+03,\n",
       "       1.171e+03, 1.608e+03, 1.834e+03, 2.008e+03, 2.216e+03, 2.406e+03,\n",
       "       2.972e+03, 3.700e+03, 4.400e+03, 5.100e+03, 5.852e+03, 6.080e+03,\n",
       "       6.450e+03])"
      ]
     },
     "execution_count": 15,
     "metadata": {},
     "output_type": "execute_result"
    }
   ],
   "source": [
    "rawData = open('population.csv' , 'rb')\n",
    "\n",
    "# Load the array.\n",
    "data = loadtxt(rawData,delimiter = ',')\n",
    "\n",
    "# Put each column into a separate array.\n",
    "time = data [:,0]\n",
    "population = data [:,1]\n"
   ]
  },
  {
   "cell_type": "markdown",
   "metadata": {},
   "source": [
    "Plot the data points.  (Use points, instead of a line.  This is a convention that indicates you are plotting actual data, not a theoretical prediction or a mathematical function.)  Label the axes, and include units."
   ]
  },
  {
   "cell_type": "code",
   "execution_count": 17,
   "metadata": {},
   "outputs": [
    {
     "data": {
      "text/plain": [
       "Text(0, 0.5, 'Population (million)')"
      ]
     },
     "execution_count": 17,
     "metadata": {},
     "output_type": "execute_result"
    },
    {
     "data": {
      "image/png": "[encoded data removed]",
      "text/plain": [
       "<Figure size 432x288 with 1 Axes>"
      ]
     },
     "metadata": {
      "needs_background": "light"
     },
     "output_type": "display_data"
    }
   ],
   "source": [
    "plt.scatter(time,population)\n",
    "plt.title(\"Time vs Population\")\n",
    "plt.xlabel(\"Year\")\n",
    "plt.ylabel(\"Population (million)\")"
   ]
  },
  {
   "cell_type": "markdown",
   "metadata": {},
   "source": [
    "## 1.5(b)\n",
    "\n",
    "Now we are going to plot the data points and a model on the same axes.\n",
    "\n",
    "To plot the function, create an array for a variable `t` that covers the relevant time interval (using `np.linspace`), and an array called `f` that contains the values of the function."
   ]
  },
  {
   "cell_type": "code",
   "execution_count": null,
   "metadata": {},
   "outputs": [],
   "source": [
    "t = np.linspace (-10000,2005,1000)\n",
    "f = population"
   ]
  },
  {
   "cell_type": "markdown",
   "metadata": {},
   "source": [
    "Now, plot the data again --- as points.  On the same axes, plot the function given in the problem --- as a line.  Include a legend in your plot, and label the axes."
   ]
  },
  {
   "cell_type": "code",
   "execution_count": 19,
   "metadata": {},
   "outputs": [
    {
     "ename": "NameError",
     "evalue": "name 't' is not defined",
     "output_type": "error",
     "traceback": [
      "\u001b[1;31m---------------------------------------------------------------------------\u001b[0m",
      "\u001b[1;31mNameError\u001b[0m                                 Traceback (most recent call last)",
      "\u001b[1;32m<ipython-input-19-dbb74044571c>\u001b[0m in \u001b[0;36m<module>\u001b[1;34m\u001b[0m\n\u001b[1;32m----> 1\u001b[1;33m \u001b[0mplt\u001b[0m\u001b[1;33m.\u001b[0m\u001b[0mplot\u001b[0m\u001b[1;33m(\u001b[0m\u001b[0mt\u001b[0m\u001b[1;33m,\u001b[0m\u001b[0mf\u001b[0m\u001b[1;33m)\u001b[0m\u001b[1;33m\u001b[0m\u001b[1;33m\u001b[0m\u001b[0m\n\u001b[0m\u001b[0;32m      2\u001b[0m \u001b[0mplt\u001b[0m\u001b[1;33m.\u001b[0m\u001b[0mtitle\u001b[0m\u001b[1;33m(\u001b[0m\u001b[1;34m\"Time vs Population\"\u001b[0m\u001b[1;33m)\u001b[0m\u001b[1;33m\u001b[0m\u001b[1;33m\u001b[0m\u001b[0m\n\u001b[0;32m      3\u001b[0m \u001b[0mplt\u001b[0m\u001b[1;33m.\u001b[0m\u001b[0mxlabel\u001b[0m\u001b[1;33m(\u001b[0m\u001b[1;34m\"Year\"\u001b[0m\u001b[1;33m)\u001b[0m\u001b[1;33m\u001b[0m\u001b[1;33m\u001b[0m\u001b[0m\n\u001b[0;32m      4\u001b[0m \u001b[0mplt\u001b[0m\u001b[1;33m.\u001b[0m\u001b[0mylabel\u001b[0m\u001b[1;33m(\u001b[0m\u001b[1;34m\"Population (million)\"\u001b[0m\u001b[1;33m)\u001b[0m\u001b[1;33m\u001b[0m\u001b[1;33m\u001b[0m\u001b[0m\n",
      "\u001b[1;31mNameError\u001b[0m: name 't' is not defined"
     ]
    }
   ],
   "source": [
    "plt.plot(t,f)\n",
    "plt.title(\"Time vs Population\")\n",
    "plt.xlabel(\"Year\")\n",
    "plt.ylabel(\"Population (million)\")"
   ]
  },
  {
   "cell_type": "markdown",
   "metadata": {},
   "source": [
    "The function is of the general form $f(t) = \\dfrac{A}{B-t}$.  Use the cell below to experiment with different parameter values for the model function and try to get a better fit to the data.  Repeatedly change the values of `A` and `B` below and run the cell to see different plots.\n",
    "\n",
    "Leave your best looking fit in the cell when you submit your final version of this problem to GitHub."
   ]
  },
  {
   "cell_type": "code",
   "execution_count": null,
   "metadata": {},
   "outputs": [],
   "source": [
    "A = \n",
    "B = \n",
    "f = A/(B-t)\n",
    "\n",
    "# Copy your plotting code from the cell above here."
   ]
  },
  {
   "cell_type": "markdown",
   "metadata": {},
   "source": [
    "## 1.5(c)\n",
    "\n",
    "From the text of the problem ...\n",
    "\n",
    "> Do you think this is a good model for the data? That is, does it tell us anything interesting beyond roughly reproducing the data points? Does it have any obvious limitations on its domain of validity? Explain.\n",
    "\n",
    "Type your thoughts in the cell below.\n",
    "\n",
    "-----"
   ]
  },
  {
   "cell_type": "markdown",
   "metadata": {},
   "source": [
    "I cant seem to get these point to plot properly."
   ]
  }
 ],
 "metadata": {
  "kernelspec": {
   "display_name": "Python 3",
   "language": "python",
   "name": "python3"
  },
  "language_info": {
   "codemirror_mode": {
    "name": "ipython",
    "version": 3
   },
   "file_extension": ".py",
   "mimetype": "text/x-python",
   "name": "python",
   "nbconvert_exporter": "python",
   "pygments_lexer": "ipython3",
   "version": "3.8.3"
  }
 },
 "nbformat": 4,
 "nbformat_minor": 5
}
