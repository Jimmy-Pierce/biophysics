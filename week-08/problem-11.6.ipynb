{
 "cells": [
  {
   "cell_type": "markdown",
   "metadata": {},
   "source": [
    "# 11.6 NUMERICAL SOLUTION OF PHASE-PORTRAIT EQUATIONS\n",
    "\n",
    "Use this notebook to store your work for this problem."
   ]
  },
  {
   "cell_type": "markdown",
   "metadata": {},
   "source": [
    "Plot at least 4 different solutions for initial values of $(\\theta, \\omega)$ on top of your streamline plot from Problem 11.5.\n",
    "\n",
    "Neatness counts!  Make the plot look as nice as you can."
   ]
  },
  {
   "cell_type": "code",
   "execution_count": null,
   "metadata": {},
   "outputs": [],
   "source": [
    "import matplotlib.pyplot as plt\n",
    "import numpy as np\n",
    "import scipy.special as ss\n",
    "from scipy.special import binom\n",
    "from numpy import random\n",
    "from scipy.stats import norm\n",
    "import math\n",
    "from scipy.stats import stats\n",
    "from scipy.special import beta\n",
    "from scipy.signal import convolve\n",
    "from mpl_toolkits import mplot3d\n",
    "from numpy.random import default_rng\n",
    "from scipy.integrate import odeint\n",
    "\n",
    "# Lost. Not sure where to start. Wasnt able to finish the last problem."
   ]
  }
 ],
 "metadata": {
  "kernelspec": {
   "display_name": "Python 3",
   "language": "python",
   "name": "python3"
  },
  "language_info": {
   "codemirror_mode": {
    "name": "ipython",
    "version": 3
   },
   "file_extension": ".py",
   "mimetype": "text/x-python",
   "name": "python",
   "nbconvert_exporter": "python",
   "pygments_lexer": "ipython3",
   "version": "3.8.3"
  }
 },
 "nbformat": 4,
 "nbformat_minor": 5
}
