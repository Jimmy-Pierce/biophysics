{
 "cells": [
  {
   "cell_type": "markdown",
   "metadata": {},
   "source": [
    "# 11.2 COOPERATIVE BINDING DATA\n",
    "\n",
    "Use this notebook to store your work for this problem."
   ]
  },
  {
   "cell_type": "markdown",
   "metadata": {},
   "source": [
    "## (a) Fit by eye"
   ]
  },
  {
   "cell_type": "code",
   "execution_count": 18,
   "metadata": {},
   "outputs": [
    {
     "name": "stdout",
     "output_type": "stream",
     "text": [
      "1.61e-06\n"
     ]
    },
    {
     "data": {
      "text/plain": [
       "[<matplotlib.lines.Line2D at 0x1e3b08a7a30>]"
      ]
     },
     "execution_count": 18,
     "metadata": {},
     "output_type": "execute_result"
    },
    {
     "data": {
      "image/png": "[encoded data removed]",
      "text/plain": [
       "<Figure size 432x288 with 1 Axes>"
      ]
     },
     "metadata": {
      "needs_background": "light"
     },
     "output_type": "display_data"
    }
   ],
   "source": [
    "import matplotlib.pyplot as plt\n",
    "import numpy as np\n",
    "import scipy.special as ss\n",
    "from scipy.special import binom\n",
    "from numpy import random\n",
    "from scipy.stats import norm\n",
    "import math\n",
    "from scipy.stats import stats\n",
    "from scipy.special import beta\n",
    "from scipy.signal import convolve\n",
    "from mpl_toolkits import mplot3d\n",
    "from numpy.random import default_rng\n",
    "\n",
    "#hemoglobin data\n",
    "\n",
    "hemoglobinConcentration = np.array([\n",
    "\n",
    "1.61E-06,\n",
    "\n",
    "2.01E-06,\n",
    "\n",
    "2.46E-06,\n",
    "\n",
    "2.92E-06,\n",
    "\n",
    "3.31E-06,\n",
    "\n",
    "3.71E-06,\n",
    "\n",
    "4.16E-06,\n",
    "\n",
    "4.95E-06,\n",
    "\n",
    "5.40E-06,\n",
    "\n",
    "5.85E-06,\n",
    "\n",
    "6.30E-06,\n",
    "\n",
    "6.70E-06,\n",
    "\n",
    "7.15E-06,\n",
    "\n",
    "7.66E-06,\n",
    "\n",
    "8.05E-06,\n",
    "\n",
    "8.50E-06,\n",
    "\n",
    "9.01E-06,\n",
    "\n",
    "9.40E-06,\n",
    "\n",
    "9.86E-06,\n",
    "\n",
    "1.03E-05,\n",
    "\n",
    "1.08E-05,\n",
    "\n",
    "1.12E-05,\n",
    "\n",
    "1.17E-05,\n",
    "\n",
    "1.21E-05,\n",
    "\n",
    "1.25E-05,\n",
    "\n",
    "1.30E-05,\n",
    "\n",
    "1.35E-05,\n",
    "\n",
    "1.39E-05,\n",
    "\n",
    "1.47E-05,\n",
    "\n",
    "1.56E-05,\n",
    "\n",
    "1.66E-05,\n",
    "\n",
    "1.75E-05,\n",
    "\n",
    "1.83E-05,\n",
    "\n",
    "1.91E-05,\n",
    "\n",
    "2.00E-05,\n",
    "\n",
    "2.09E-05,\n",
    "\n",
    "2.18E-05,\n",
    "\n",
    "2.26E-05,\n",
    "\n",
    "2.35E-05,\n",
    "\n",
    "2.45E-05,\n",
    "\n",
    "2.52E-05,\n",
    "\n",
    "2.61E-05,\n",
    "\n",
    "2.71E-05\n",
    "])\n",
    "\n",
    "hemoglobinUnboundP = np.array([\n",
    "0.9874,\n",
    "\n",
    "0.98182,\n",
    "\n",
    "0.97624,\n",
    "\n",
    "0.9679,\n",
    "\n",
    "0.9568,\n",
    "\n",
    "0.9402,\n",
    "\n",
    "0.92085,\n",
    "\n",
    "0.90149,\n",
    "\n",
    "0.8545,\n",
    "\n",
    "0.8186,\n",
    "\n",
    "0.78,\n",
    "\n",
    "0.7358,\n",
    "\n",
    "0.6972,\n",
    "\n",
    "0.653,\n",
    "\n",
    "0.6061,\n",
    "\n",
    "0.5565,\n",
    "\n",
    "0.5206,\n",
    "\n",
    "0.4792,\n",
    "\n",
    "0.4378,\n",
    "\n",
    "0.4019,\n",
    "\n",
    "0.3687,\n",
    "\n",
    "0.3411,\n",
    "\n",
    "0.3108,\n",
    "\n",
    "0.2886,\n",
    "\n",
    "0.261,\n",
    "\n",
    "0.2416,\n",
    "\n",
    "0.2223,\n",
    "\n",
    "0.2029,\n",
    "\n",
    "0.1863,\n",
    "\n",
    "0.1586,\n",
    "\n",
    "0.1364,\n",
    "\n",
    "0.1142,\n",
    "\n",
    "0.0975,\n",
    "\n",
    "0.0809,\n",
    "\n",
    "0.0725,\n",
    "\n",
    "0.064,\n",
    "\n",
    "0.0529,\n",
    "\n",
    "0.0472,\n",
    "\n",
    "0.0416,\n",
    "\n",
    "0.0469,\n",
    "\n",
    "0.0302,\n",
    "\n",
    "0.0327,\n",
    "\n",
    "0.0298\n",
    "])\n",
    "\n",
    "print (hemoglobinConcentration[0])\n",
    "\n",
    "plt.plot (hemoglobinConcentration,hemoglobinUnboundP, 'bo')\n",
    "\n",
    "\n"
   ]
  },
  {
   "cell_type": "code",
   "execution_count": 19,
   "metadata": {},
   "outputs": [
    {
     "data": {
      "text/plain": [
       "[<matplotlib.lines.Line2D at 0x1e3b0a45310>]"
      ]
     },
     "execution_count": 19,
     "metadata": {},
     "output_type": "execute_result"
    },
    {
     "data": {
      "image/png": "[encoded data removed]",
      "text/plain": [
       "<Figure size 432x288 with 1 Axes>"
      ]
     },
     "metadata": {
      "needs_background": "light"
     },
     "output_type": "display_data"
    }
   ],
   "source": [
    "equationOne = np.linspace(hemoglobinConcentration[1],hemoglobinConcentration[-1], 101)\n",
    "equationTwo = 1/(.5 +(equationOne**.1))\n",
    "\n",
    "plt.plot(equationOne, equationTwo, 'r-')\n"
   ]
  },
  {
   "cell_type": "markdown",
   "metadata": {},
   "source": [
    "## (b) Least-squares fit"
   ]
  },
  {
   "cell_type": "code",
   "execution_count": null,
   "metadata": {},
   "outputs": [],
   "source": []
  },
  {
   "cell_type": "code",
   "execution_count": null,
   "metadata": {},
   "outputs": [],
   "source": []
  }
 ],
 "metadata": {
  "kernelspec": {
   "display_name": "Python 3",
   "language": "python",
   "name": "python3"
  },
  "language_info": {
   "codemirror_mode": {
    "name": "ipython",
    "version": 3
   },
   "file_extension": ".py",
   "mimetype": "text/x-python",
   "name": "python",
   "nbconvert_exporter": "python",
   "pygments_lexer": "ipython3",
   "version": "3.8.3"
  }
 },
 "nbformat": 4,
 "nbformat_minor": 5
}
